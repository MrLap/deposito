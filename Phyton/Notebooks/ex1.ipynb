{
 "cells": [
  {
   "cell_type": "code",
   "execution_count": 26,
   "id": "61646fb3",
   "metadata": {},
   "outputs": [
    {
     "name": "stdout",
     "output_type": "stream",
     "text": [
      "v12\n",
      "v22\n",
      "op+\n",
      "4.0\n"
     ]
    }
   ],
   "source": [
    "#calculadora simples\n",
    "import math\n",
    "\n",
    "def soma(v1, v2):\n",
    "    return v1 + v2\n",
    "\n",
    "def sub(v1, v2):\n",
    "    return v1 - v2\n",
    "\n",
    "def mult(v1, v2):\n",
    "    return v1 * v2\n",
    "\n",
    "def div(v1, v2):\n",
    "    if v2 == 0:\n",
    "        print('divisão impossivel')\n",
    "    else:\n",
    "        return v1 / v2\n",
    "\n",
    "\n",
    "v1=float(input('v1'))\n",
    "v2=float(input('v2'))\n",
    "op=str(input('op'))\n",
    "\n",
    "if op=='+':\n",
    "    print(soma(v1,v2))\n",
    "    \n",
    "elif op=='-':\n",
    "    print(sub(v1,v2))\n",
    "    \n",
    "elif op=='*':\n",
    "    print(mult(v1,v2))\n",
    "    \n",
    "elif op=='/':\n",
    "    print(div(v1,v2))\n",
    "    "
   ]
  },
  {
   "cell_type": "code",
   "execution_count": 55,
   "id": "ff846bc7",
   "metadata": {
    "scrolled": true
   },
   "outputs": [
    {
     "name": "stdout",
     "output_type": "stream",
     "text": [
      "[110, 9, 7, 5, 4, 3, 2, 1]\n"
     ]
    }
   ],
   "source": [
    "a = [110,4,2,5,9,3,7,1,]\n",
    "\n",
    "\n",
    "for i in range(len(a)):\n",
    "    for j in range(len(a)):\n",
    "        \n",
    "        if(a[i] > a[j]):\n",
    "        \n",
    "            aux = a[i]\n",
    "            \n",
    "            a[i] = a[j]\n",
    "            \n",
    "            a[j] = aux\n",
    "            \n",
    "            \n",
    "print(a)"
   ]
  },
  {
   "cell_type": "code",
   "execution_count": 6,
   "id": "7506c289",
   "metadata": {
    "scrolled": true
   },
   "outputs": [
    {
     "name": "stdout",
     "output_type": "stream",
     "text": [
      "emani\n",
      "EMANI\n",
      "emani\n"
     ]
    }
   ],
   "source": [
    "s='emani'\n",
    "print(s)\n",
    "print(s.upper())\n",
    "\n",
    "\n"
   ]
  },
  {
   "cell_type": "code",
   "execution_count": null,
   "id": "f89dd80c",
   "metadata": {},
   "outputs": [],
   "source": []
  }
 ],
 "metadata": {
  "kernelspec": {
   "display_name": "Python 3 (ipykernel)",
   "language": "python",
   "name": "python3"
  },
  "language_info": {
   "codemirror_mode": {
    "name": "ipython",
    "version": 3
   },
   "file_extension": ".py",
   "mimetype": "text/x-python",
   "name": "python",
   "nbconvert_exporter": "python",
   "pygments_lexer": "ipython3",
   "version": "3.11.4"
  }
 },
 "nbformat": 4,
 "nbformat_minor": 5
}
