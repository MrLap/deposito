{
 "cells": [
  {
   "cell_type": "markdown",
   "id": "16c45395",
   "metadata": {},
   "source": [
    "# Atalhos de teclados e alguns outros macetes do Jupyter Notebook\n",
    "Acessando paleta de comandos\n",
    "Ctrl + Shift + P : paleta de comandos (não funciona no Firefox 57)\n",
    "\n",
    "#list comprehension\n",
    "\n",
    "Ctrl + Shift + F : paleta de comandos\n",
    "\n",
    "Comandos em modo de navegação\n",
    "Esc : entra no modo de navegação\n",
    "\n",
    "B : insere uma nova célula abaixo\n",
    "\n",
    "M : muda o tipo de texto para markdown\n",
    "\n",
    "Y : muda o tipo de texto para código\n",
    "\n",
    "A : insere uma nova célula acima\n",
    "\n",
    "C : copia a célula selecionada\n",
    "\n",
    "X : recorta a célula selecionada\n",
    "\n",
    "V : cola célula copiada/recortada abaixo da célula selecionada\n",
    "\n",
    "Shift + V : cola célula copiada/recortada acima da célula selecionada\n",
    "\n",
    "J e K : navegação pelas células\n",
    "\n",
    "↓ e ↑ : navegação pelas células\n",
    "\n",
    "D + D : deleta célula\n",
    "\n",
    "Z : desfaz última deleção de célula\n",
    "\n",
    "1 a 6 : insere cabeçalhos do markdown\n",
    "\n",
    "Shift + ↓ ou J : seleciona múltiplas células para baixo\n",
    "\n",
    "Shift + ↑ ou K : seleciona múltiplas células para cima\n",
    "\n",
    "Shift + M : mescla múltiplas células selecionadas\n",
    "\n",
    "Shift + L : exibe os números das linhas das células com código\n",
    "\n",
    "S : salva notebook e cria checkpoint\n",
    "\n",
    "Ctrl + S : salva notebook e cria checkpoint\n",
    "\n",
    "F : busca e substitue texto da célula\n",
    "\n",
    "O : esconde output da célula\n",
    "\n",
    "H : exibe painel com atalhos de teclado\n",
    "\n",
    "I + I : interrompe o kernel\n",
    "\n",
    "0 + 0 : reinicia o kernel\n",
    "\n",
    "Space : rola notebook para baixo\n",
    "\n",
    "Shift + Space : rola notebook para cima\n",
    "\n",
    "Comandos em modo de edição\n",
    "Enter : entra no modo de edição\n",
    "\n",
    "Shift + Tab : exibe documentação da função (o cursor deve estar posicionado sobre a função)\n",
    "\n",
    "Ctrl + Shift + - : divide a célula a partir da posição do cursor\n",
    "\n",
    "Tab : completa código\n",
    "\n",
    "Ctrl + ] : indenta código\n",
    "\n",
    "Ctrl + [ : desfaz indentação do código\n",
    "\n",
    "Ctrl + A : seleciona todo o texto da célula\n",
    "\n",
    "Ctrl + Z : desfaz alterações do texto da célula\n",
    "\n",
    "Ctrl + / : Comenta código\n",
    "\n",
    "Ctrl + Shift + Z : redo\n",
    "\n",
    "Ctrl + Home : vai para o início da célula\n",
    "\n",
    "Ctrl + ↑ : vai para o início da célula\n",
    "\n",
    "Ctrl + End : vai para o final da célula\n",
    "\n",
    "Ctrl + ↓ : vai para o final da célula\n",
    "\n",
    "Ctrl + ← : anda para próxima palavra à esquerda\n",
    "\n",
    "Ctrl + → : anda para próxima palavra à direita\n",
    "\n",
    "Ctrl + Backspace : deleta a palavra anterior - Ctrl + Del : deleta a palavra posterior\n",
    "\n",
    "Comandos independentes dos modos de navegação e de edição\n",
    "Ctrl + Enter : executa texto da célula\n",
    "\n",
    "Shift + Enter : executa texto da célula e passa para célula abaixo\n",
    "\n",
    "Alt + Enter : executa texto da célula e insere nova célula abaixo"
   ]
  },
  {
   "cell_type": "code",
   "execution_count": 62,
   "id": "187e1f75",
   "metadata": {
    "scrolled": true
   },
   "outputs": [
    {
     "name": "stdout",
     "output_type": "stream",
     "text": [
      "banana\n"
     ]
    }
   ],
   "source": [
    "print ('banana')"
   ]
  },
  {
   "cell_type": "code",
   "execution_count": 65,
   "id": "2d53d3b6",
   "metadata": {},
   "outputs": [
    {
     "name": "stdout",
     "output_type": "stream",
     "text": [
      "entre com valor 1\n",
      "1\n"
     ]
    }
   ],
   "source": [
    "a= input('entre com valor ')\n",
    "print (a)"
   ]
  },
  {
   "cell_type": "code",
   "execution_count": 14,
   "id": "091ebe43",
   "metadata": {
    "scrolled": true
   },
   "outputs": [
    {
     "name": "stdout",
     "output_type": "stream",
     "text": [
      "what is your name?leonardo\n",
      "hello leonardo!\n"
     ]
    }
   ],
   "source": [
    "nome = input ('what is your name?')\n",
    "print ('hello ' + nome + '!')"
   ]
  },
  {
   "cell_type": "code",
   "execution_count": 67,
   "id": "3e29ccab",
   "metadata": {},
   "outputs": [
    {
     "name": "stdout",
     "output_type": "stream",
     "text": [
      "insira a note 1 7\n",
      "insira a note 2 7\n",
      "insira a note 3 7\n",
      "a media é: 7.0\n"
     ]
    }
   ],
   "source": [
    "#Crie um programa em Python que solicite ao usuário três notas (entre 0 e 10)\n",
    "#e calcule a média das notas. Depois, exiba a média calculada na tela.\n",
    "n1 = float(input('insira a note 1 '))\n",
    "n2 = float(input('insira a note 2 '))\n",
    "n3 = float(input('insira a note 3 '))\n",
    "\n",
    "media =  (n1+n2+n3)/3\n",
    "\n",
    "print('a media é:', media)"
   ]
  },
  {
   "cell_type": "code",
   "execution_count": 36,
   "id": "235efc47",
   "metadata": {},
   "outputs": [
    {
     "name": "stdout",
     "output_type": "stream",
     "text": [
      "Entre com a temperatura em Celsius: \n",
      "10\n",
      "A temperatura 10.0 °C é 50.0 °F\n"
     ]
    }
   ],
   "source": [
    "# Solicita a temperatura em graus Celsius ao usuário formula: (celsius * 9/5) + 32\n",
    "\n",
    "celsius = float(input('Entre com a temperatura em Celsius: \\n'))\n",
    "\n",
    "fahrenheit = (celsius * 9/5) + 32\n",
    "\n",
    "print('A temperatura', celsius, '°C é', fahrenheit, '°F')\n"
   ]
  },
  {
   "cell_type": "code",
   "execution_count": 37,
   "id": "c82629f2",
   "metadata": {},
   "outputs": [
    {
     "name": "stdout",
     "output_type": "stream",
     "text": [
      "Entre com a temperatura em Celsius: 10\n",
      "A temperatura de 10.0 Celsius para Fahrenheit é 50.0\n"
     ]
    }
   ],
   "source": [
    "celsius = float(input('Entre com a temperatura em Celsius: '))\n",
    "\n",
    "fahrenheit = (celsius * 9/5) + 32\n",
    "\n",
    "print('A temperatura de ' + str(celsius) + ' Celsius para Fahrenheit é ' + str(fahrenheit))\n"
   ]
  },
  {
   "cell_type": "code",
   "execution_count": 35,
   "id": "5db14b70",
   "metadata": {},
   "outputs": [
    {
     "name": "stdout",
     "output_type": "stream",
     "text": [
      "Entre com a temperatura em Celsius: 10\n",
      "A temperatura de 10.00 Celsius para Fahrenheit é 50.00\n"
     ]
    }
   ],
   "source": [
    "celsius = float(input('Entre com a temperatura em Celsius: '))\n",
    "\n",
    "fahrenheit = (celsius * 9/5) + 32\n",
    "\n",
    "print(f'A temperatura de {celsius:.2f} Celsius para Fahrenheit é {fahrenheit:.2f}')\n"
   ]
  },
  {
   "cell_type": "code",
   "execution_count": 40,
   "id": "21f98a41",
   "metadata": {},
   "outputs": [
    {
     "name": "stdout",
     "output_type": "stream",
     "text": [
      "entre com o raio \n",
      "10\n",
      "a area do circulo é: 314.15999999999997\n"
     ]
    }
   ],
   "source": [
    "#Problema: Calculadora de Área de um Círculo\n",
    "#Crie um programa em Python que solicite ao \n",
    "#usuário o raio de um círculo e calcule a área desse círculo.\n",
    "#A fórmula para calcular a área de um círculo é:\n",
    "\n",
    "pi=3.1416\n",
    "\n",
    "raio=float(input('entre com o raio \\n'))\n",
    "\n",
    "areaCirculo=pi*(raio*raio)\n",
    "\n",
    "print('a area do circulo é:', areaCirculo)"
   ]
  },
  {
   "cell_type": "code",
   "execution_count": 42,
   "id": "a0cafc1d",
   "metadata": {},
   "outputs": [
    {
     "name": "stdout",
     "output_type": "stream",
     "text": [
      "Digite o raio do círculo: 10\n",
      "A área do círculo é: 314.1592653589793\n"
     ]
    }
   ],
   "source": [
    "import math\n",
    "\n",
    "raio = float(input('Digite o raio do círculo: '))\n",
    "\n",
    "areaCirculo = math.pi * (raio ** 2)\n",
    "\n",
    "print('A área do círculo é:', areaCirculo)"
   ]
  },
  {
   "cell_type": "code",
   "execution_count": 59,
   "id": "cd7cc789",
   "metadata": {},
   "outputs": [
    {
     "name": "stdout",
     "output_type": "stream",
     "text": [
      "Número: 1\n",
      "Número: 2\n",
      "Número: 3\n",
      "Número: 4\n",
      "Número: 5\n",
      "Número: 6\n",
      "Número: 7\n",
      "Número: 8\n",
      "Número: 9\n",
      "Número: 10\n",
      "Número: 11\n"
     ]
    }
   ],
   "source": [
    "#crie um codigo em pyton que gere numeros de 1 até 11\n",
    "\n",
    "for i in range(11):\n",
    "    print(\"Número:\", i+1)\n"
   ]
  },
  {
   "cell_type": "code",
   "execution_count": 68,
   "id": "b790a6d5",
   "metadata": {
    "scrolled": true
   },
   "outputs": [
    {
     "name": "stdout",
     "output_type": "stream",
     "text": [
      "1\n",
      "2\n",
      "3\n",
      "4\n",
      "5\n",
      "6\n",
      "7\n",
      "8\n",
      "9\n",
      "10\n",
      "11\n"
     ]
    }
   ],
   "source": [
    "i=0\n",
    "while i<11:\n",
    "    print(i+1)\n",
    "    i+=1"
   ]
  },
  {
   "cell_type": "code",
   "execution_count": 69,
   "id": "b8c3c761",
   "metadata": {},
   "outputs": [
    {
     "name": "stdout",
     "output_type": "stream",
     "text": [
      "Eu gosto de maçã\n",
      "Eu gosto de banana\n",
      "Eu gosto de laranja\n"
     ]
    }
   ],
   "source": [
    "frutas = [\"maçã\", \"banana\", \"laranja\"]\n",
    "\n",
    "for fruta in frutas:\n",
    "    print(\"Eu gosto de\", fruta)\n"
   ]
  },
  {
   "cell_type": "code",
   "execution_count": 81,
   "id": "c62fa8ac",
   "metadata": {
    "scrolled": true
   },
   "outputs": [
    {
     "name": "stdout",
     "output_type": "stream",
     "text": [
      "par 2\n",
      "par 4\n",
      "par 6\n",
      "par 8\n",
      "par 10\n"
     ]
    }
   ],
   "source": [
    "'''gere um programa que liste \n",
    "numeros de 1 a 100 que são pares'''\n",
    "\n",
    "i=0\n",
    "\n",
    "for i in range(11):\n",
    "    if(i%2==0 and (i!= 0)):\n",
    "        print('par', i)"
   ]
  },
  {
   "cell_type": "code",
   "execution_count": 82,
   "id": "b2bc7643",
   "metadata": {
    "scrolled": true
   },
   "outputs": [
    {
     "name": "stdout",
     "output_type": "stream",
     "text": [
      "par 2\n",
      "par 4\n",
      "par 6\n",
      "par 8\n",
      "par 10\n"
     ]
    }
   ],
   "source": [
    "# Gere um programa que liste \n",
    "#números de 1 a 100 que são pares\n",
    "\n",
    "for i in range(1, 11):  # O range deve ser de 1 a 100 (inclusive)\n",
    "    if i % 2 == 0:  # Usar == para comparação e adicionar os dois pontos\n",
    "        print('par', i)\n"
   ]
  },
  {
   "cell_type": "code",
   "execution_count": 110,
   "id": "af0675a2",
   "metadata": {},
   "outputs": [
    {
     "name": "stdout",
     "output_type": "stream",
     "text": [
      "entre com o numero para verificar se é primo: 7\n",
      "o numero  7  É primo\n"
     ]
    }
   ],
   "source": [
    "'''Problema: Verificação de Número Primo\n",
    "Crie um programa em Python que verifique \n",
    "se um número fornecido pelo usuário é \n",
    "um número primo ou não. Um número primo \n",
    "é um número maior que 1 e que só é divisível\n",
    "por 1 e por ele mesmo.'''\n",
    "\n",
    "num=int(input('entre com o numero para verificar se é primo: '))\n",
    "\n",
    "if(num>1):\n",
    "    is_primo=True\n",
    "    for i in range (2,num):\n",
    "        if (num%i == 0):\n",
    "            is_primo=False\n",
    "            break\n",
    "    \n",
    "    if is_primo == True:       \n",
    "        print('o numero ', num,' É primo')\n",
    "    else:\n",
    "        print('o numero ', num,' NÃO é primo')\n",
    "else:\n",
    "    print('o numero ', num,' NÃO é primo')"
   ]
  },
  {
   "cell_type": "code",
   "execution_count": 112,
   "id": "ca8fbc8c",
   "metadata": {},
   "outputs": [
    {
     "name": "stdout",
     "output_type": "stream",
     "text": [
      "O número 7 É primo\n"
     ]
    }
   ],
   "source": [
    "# codigo com listcomprehension\n",
    "\n",
    "is_primo = all(num % i != 0 for i in range(2, int(num ** 0.5) + 1))\n",
    "\n",
    "if num > 1 and is_primo:\n",
    "    print('O número', num, 'É primo')\n",
    "else:\n",
    "    print('O número', num, 'NÃO é primo')\n"
   ]
  },
  {
   "cell_type": "code",
   "execution_count": 115,
   "id": "a5adf02d",
   "metadata": {},
   "outputs": [
    {
     "name": "stdout",
     "output_type": "stream",
     "text": [
      "Entre com o número para verificar se é primo: 7\n",
      "O número 7 É primo\n"
     ]
    }
   ],
   "source": [
    "# Solicita ao usuário um número para verificar se é primo\n",
    "num = int(input('Entre com o número para verificar se é primo: '))\n",
    "\n",
    "# Inicializa a variável que indica se o número é primo como True\n",
    "is_primo = True\n",
    "\n",
    "# Verifica se o número é maior que 1 e \n",
    "#se todos os valores do intervalo não dividem exatamente o número\n",
    "# A list comprehension verifica se num % i é diferente de 0 \n",
    "#para cada i no intervalo de 2 até a raiz quadrada do número\n",
    "\n",
    "is_primo = all(num % i != 0 for i in range(2, int(num ** 0.5) + 1))\n",
    "\n",
    "# Verifica se o número é maior que 1 e se a variável is_primo é True\n",
    "if num > 1 and is_primo:\n",
    "    print('O número', num, 'É primo')\n",
    "else:\n",
    "    print('O número', num, 'NÃO é primo')\n"
   ]
  },
  {
   "cell_type": "code",
   "execution_count": 129,
   "id": "4ce50275",
   "metadata": {},
   "outputs": [
    {
     "name": "stdout",
     "output_type": "stream",
     "text": [
      "entre com a palavra leonardo\n",
      "o numero de vogais é: 4\n"
     ]
    }
   ],
   "source": [
    "'''Crie um programa em Python que solicite ao usuário uma frase \n",
    "ou palavra e conte o número de vogais (A, E, I, O, U) presentes nela. \n",
    "O programa deve ignorar letras maiúsculas e minúsculas ao fazer a contagem.'''\n",
    "\n",
    "\n",
    "texto=input('entre com a palavra ')\n",
    "contador=0\n",
    "\n",
    "for i in texto:\n",
    "    if i in 'aeiouAEIOU':\n",
    "        contador += 1\n",
    "\n",
    "print('o numero de vogais é:',contador)\n",
    "    "
   ]
  }
 ],
 "metadata": {
  "kernelspec": {
   "display_name": "Python 3 (ipykernel)",
   "language": "python",
   "name": "python3"
  },
  "language_info": {
   "codemirror_mode": {
    "name": "ipython",
    "version": 3
   },
   "file_extension": ".py",
   "mimetype": "text/x-python",
   "name": "python",
   "nbconvert_exporter": "python",
   "pygments_lexer": "ipython3",
   "version": "3.11.4"
  }
 },
 "nbformat": 4,
 "nbformat_minor": 5
}
